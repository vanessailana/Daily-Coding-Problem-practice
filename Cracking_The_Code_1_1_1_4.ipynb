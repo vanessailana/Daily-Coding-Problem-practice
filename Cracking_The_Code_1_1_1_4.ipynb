{
  "nbformat": 4,
  "nbformat_minor": 0,
  "metadata": {
    "colab": {
      "provenance": []
    },
    "kernelspec": {
      "name": "python3",
      "display_name": "Python 3"
    },
    "language_info": {
      "name": "python"
    }
  },
  "cells": [
    {
      "cell_type": "markdown",
      "source": [
        "** Check if a String Has All Unique Characters**\n",
        "\n",
        "Implement a function has_unique_chars(s) that checks whether a given string contains all unique characters.\n",
        "\n",
        "Assume ASCII character set (256 characters max).\n",
        "\n",
        "Do not use any additional data structures in the second version (bit manipulation).\n"
      ],
      "metadata": {
        "id": "sKHoyN0rsxBF"
      }
    },
    {
      "cell_type": "code",
      "source": [
        "def has_unique_chars(s):\n",
        "    # Return False if input is empty or too long (ASCII has 256 unique chars max)\n",
        "    if s is None or len(s) == 0 or len(s) > 256:\n",
        "        return False\n",
        "\n",
        "    # Track which characters we've seen\n",
        "    char_seen = [False] * 256\n",
        "\n",
        "    for char in s:\n",
        "        code = ord(char)\n",
        "        if char_seen[code]:\n",
        "            return False  # Duplicate found\n",
        "        char_seen[code] = True\n",
        "\n",
        "    return True  # All characters are unique\n",
        "\n",
        "\n",
        "def has_unique_chars_bitwise(s):\n",
        "    checker = 0\n",
        "\n",
        "    for char in s:\n",
        "        val = ord(char) - ord('a')\n",
        "\n",
        "        # Only works for a–z\n",
        "        if val < 0 or val > 25:\n",
        "            return False\n",
        "\n",
        "        if checker & (1 << val):\n",
        "            return False  # Duplicate found\n",
        "\n",
        "        checker |= (1 << val)\n",
        "\n",
        "    return True"
      ],
      "metadata": {
        "id": "ejWYZ7tMsxh6"
      },
      "execution_count": null,
      "outputs": []
    },
    {
      "cell_type": "code",
      "source": [
        "print(\"has_unique_chars tests:\")\n",
        "print(\"abcdef:\", has_unique_chars(\"abcdef\"))        # True\n",
        "print(\"aabcdef:\", has_unique_chars(\"aabcdef\"))      # False\n",
        "print(\"empty:\", has_unique_chars(\"\"))               # False\n",
        "print(\"None:\", has_unique_chars(None))              # False\n",
        "print(\"abcABC:\", has_unique_chars(\"abcABC\"))        # True\n",
        "\n",
        "print(\"\\nhas_unique_chars_bitwise tests:\")\n",
        "print(\"abcdef:\", has_unique_chars_bitwise(\"abcdef\"))    # True\n",
        "print(\"aabcdef:\", has_unique_chars_bitwise(\"aabcdef\"))  # False\n",
        "print(\"abcABC:\", has_unique_chars_bitwise(\"abcABC\"))    # False\n",
        "print(\"empty:\", has_unique_chars_bitwise(\"\"))           # True\n"
      ],
      "metadata": {
        "colab": {
          "base_uri": "https://localhost:8080/"
        },
        "id": "bdApbolwwcaD",
        "outputId": "592a0b2a-bb22-4805-f748-04f3f52fe30a"
      },
      "execution_count": null,
      "outputs": [
        {
          "output_type": "stream",
          "name": "stdout",
          "text": [
            "has_unique_chars tests:\n",
            "abcdef: True\n",
            "aabcdef: False\n",
            "empty: False\n",
            "None: False\n",
            "abcABC: True\n",
            "\n",
            "has_unique_chars_bitwise tests:\n",
            "abcdef: True\n",
            "aabcdef: False\n",
            "abcABC: False\n",
            "empty: True\n"
          ]
        }
      ]
    },
    {
      "cell_type": "code",
      "source": [
        "# Create a dictionary\n",
        "person = {\n",
        "    \"name\": \"Alice\",\n",
        "    \"age\": 30,\n",
        "    \"city\": \"New York\"\n",
        "}\n",
        "\n",
        "# Access a value by key\n",
        "print(person[\"name\"])   # Output: Alice\n",
        "print(person[\"age\"])    # Output: 30\n",
        "\n",
        "# Add or update a value\n",
        "person[\"age\"] = 31\n",
        "person[\"job\"] = \"Engineer\"\n",
        "\n",
        "# Now the dictionary looks like:\n",
        "# {\"name\": \"Alice\", \"age\": 31, \"city\": \"New York\", \"job\": \"Engineer\"}\n"
      ],
      "metadata": {
        "colab": {
          "base_uri": "https://localhost:8080/"
        },
        "id": "6o6nJryu_ntC",
        "outputId": "1943a8a0-d6b9-436d-d47f-66eb3eec9eb7"
      },
      "execution_count": 5,
      "outputs": [
        {
          "output_type": "stream",
          "name": "stdout",
          "text": [
            "Alice\n",
            "30\n"
          ]
        }
      ]
    },
    {
      "cell_type": "markdown",
      "source": [
        "Dictionary / Hash Map Summary (for Hypothesis Notebook)\n",
        "A dictionary (or hash map) is a data structure that stores data as key-value pairs.\n",
        "\n",
        "In Python, it's called a dict; in other languages like Java or C++, it's called a HashMap or unordered_map.\n",
        "\n",
        "Keys must be unique; each key maps to exactly one value.\n",
        "\n",
        "Lookup, insert, and delete operations are fast — typically O(1) time on average due to hashing.\n",
        "\n",
        "Common use cases: counting items, fast lookups, storing structured data (e.g., a person’s name, age, and location).\n",
        "\n",
        "Example:\n",
        "\n",
        "person = {\"name\": \"Alice\", \"age\": 30}\n",
        "print(person[\"name\"])  # Output: Alice"
      ],
      "metadata": {
        "id": "Z7NBVqAqD15P"
      }
    },
    {
      "cell_type": "markdown",
      "source": [
        "Given two strings, write a method to decide if one is a permutation of the other."
      ],
      "metadata": {
        "id": "3m1EwadR_wvN"
      }
    },
    {
      "cell_type": "code",
      "source": [
        "#Method 1: Using Sorting (Python)\n",
        "def is_permutation_sort(s1, s2):\n",
        "    if s1 is None or s2 is None:\n",
        "        return False\n",
        "    if len(s1) != len(s2):\n",
        "        return False\n",
        "    return sorted(s1) == sorted(s2)\n",
        "\n",
        "#Method 2: Using Character Count (Hash Map / Dictionary)\n",
        "def is_permutation_count(s1, s2):\n",
        "    # Return False if either string is None\n",
        "    if s1 is None or s2 is None:\n",
        "        return False\n",
        "\n",
        "    # If lengths differ, they can't be permutations\n",
        "    if len(s1) != len(s2):\n",
        "        return False\n",
        "\n",
        "    char_count = {}  # Dictionary to count characters in s1\n",
        "\n",
        "    # Count each character in s1\n",
        "    for char in s1:\n",
        "        char_count[char] = char_count.get(char, 0) + 1\n",
        "\n",
        "    # Decrease the count for each character in s2\n",
        "    for char in s2:\n",
        "        if char not in char_count or char_count[char] == 0:\n",
        "            return False  # Extra char or too many occurrences\n",
        "        char_count[char] -= 1\n",
        "\n",
        "    # All characters matched correctly\n",
        "    return True\n"
      ],
      "metadata": {
        "id": "7t-aaJzZAVrj"
      },
      "execution_count": 3,
      "outputs": []
    },
    {
      "cell_type": "code",
      "source": [
        "print(is_permutation_sort(\"abc\", \"bca\"))       # True\n",
        "print(is_permutation_sort(\"abc\", \"abcd\"))      # False\n",
        "print(is_permutation_count(\"listen\", \"silent\"))# True\n",
        "print(is_permutation_count(\"hello\", \"olelh\"))  # True\n",
        "print(is_permutation_count(\"test\", \"tess\"))    # False\n",
        "print(is_permutation_count(\"\", \"\"))            # True\n",
        "print(is_permutation_count(None, \"abc\"))       # False\n"
      ],
      "metadata": {
        "colab": {
          "base_uri": "https://localhost:8080/"
        },
        "id": "8gc6yl9aB1yE",
        "outputId": "a95435be-b26b-49e5-9e5e-a6ab10ed0c82"
      },
      "execution_count": 4,
      "outputs": [
        {
          "output_type": "stream",
          "name": "stdout",
          "text": [
            "True\n",
            "False\n",
            "True\n",
            "True\n",
            "False\n",
            "True\n",
            "False\n"
          ]
        }
      ]
    },
    {
      "cell_type": "markdown",
      "source": [
        "Problem Statement:\n",
        "URLify: Write a method to replace all spaces in a string with ‘%20’. You may assume that the string has sufficient space at the end to hold the additional characters and that you are given the true length of the string.\n",
        "\n",
        "Example:\n",
        "Input: “Mr john Smith\n",
        "Output: “Mr%20john%20Smith”\n",
        "\n",
        "Approach: The algorithm employs a two-scan approach. In the first scan, we count the number of spaces.\n",
        "We can compute how many extra characters we will have in the final string by tripling this number.\n",
        "In the second pass, which Is done in reverse order, we actually edit the string. When we see a space, we replace it with %20. If there is no space, then we copy the original character.\n",
        "\n"
      ],
      "metadata": {
        "id": "zsnZbC_SEM3N"
      }
    },
    {
      "cell_type": "markdown",
      "source": [
        "Function urlify(url_list, trueLength):\n",
        "\n",
        "    1. Initialize spaceCount = 0\n",
        "\n",
        "    2. For i from 0 to trueLength - 1:\n",
        "        If url_list[i] is a space:\n",
        "            Increment spaceCount by 1\n",
        "\n",
        "    3. Compute newLength = trueLength + (spaceCount * 2)\n",
        "       (Each space adds 2 extra characters: '%20' instead of ' ')\n",
        "\n",
        "    4. Extend url_list with (spaceCount * 2) empty slots\n",
        "       (To make room for the extra characters)\n",
        "\n",
        "    5. Set index = newLength\n",
        "\n",
        "    6. For i from trueLength - 1 down to 0:\n",
        "        If url_list[i] is a space:\n",
        "            Set url_list[index - 1] = '0'\n",
        "            Set url_list[index - 2] = '2'\n",
        "            Set url_list[index - 3] = '%'\n",
        "            Decrease index by 3\n",
        "        Else:\n",
        "            Set url_list[index - 1] = url_list[i]\n",
        "            Decrease index by 1\n",
        "\n",
        "    7. Return url_list joined into a string\n",
        "\n",
        "\n",
        "= What Each Step Means:\n",
        "\n",
        "1\tStart a counter for spaces\tEach space = %20, so we need to know how many\n",
        "2\tLoop through the real part of the string\tOnly the \"true\" length counts for conversion\n",
        "3\tCalculate final size\tSo we know where to move characters in step 6\n",
        "4\tAdd empty slots to the list\tMakes room for longer %20 inserts\n",
        "5\tSet a cursor at the end of new string\tStart copying characters from the back\n",
        "6\tMove characters or insert '%20'\tBackward copy avoids overwriting characters\n",
        "7\tTurn list back into a string\tFinal result string is ready"
      ],
      "metadata": {
        "id": "vlc9UIznGG0I"
      }
    },
    {
      "cell_type": "code",
      "source": [
        "from typing import List\n",
        "\n",
        "# Function to replace spaces in a string with '%20' using a list of characters\n",
        "def urlify(url: List[str], trueLength: int) -> str:\n",
        "    # Count how many spaces are in the true part of the string\n",
        "    spaceCount = 0\n",
        "    for i in range(trueLength):\n",
        "        if url[i] == ' ':\n",
        "            spaceCount += 1  # Each space will be replaced by '%20' (3 chars)\n",
        "\n",
        "    # Calculate the new length after replacements\n",
        "    index = trueLength + spaceCount * 2\n",
        "\n",
        "    # Extend the list to fit the extra characters\n",
        "    url.extend([''] * (spaceCount * 2))\n",
        "\n",
        "    # Start from the end and move characters backward\n",
        "    for i in range(trueLength - 1, -1, -1):\n",
        "        if url[i] == ' ':\n",
        "            url[index - 1] = '0'   # Insert '0'\n",
        "            url[index - 2] = '2'   # Insert '2'\n",
        "            url[index - 3] = '%'   # Insert '%'\n",
        "            index -= 3             # Move index back by 3\n",
        "        else:\n",
        "            url[index - 1] = url[i]  # Move character to new index\n",
        "            index -= 1              # Move index back by 1\n",
        "\n",
        "    # Join the list into a final string\n",
        "    return \"\".join(url)\n",
        "\n",
        "# Example usage\n",
        "url = \"www.google.com/test urlify code\"\n",
        "print(urlify(list(url), len(url)))  # Output: www.google.com/test%20urlify%20code\n"
      ],
      "metadata": {
        "colab": {
          "base_uri": "https://localhost:8080/"
        },
        "id": "2DD13c2wEN3W",
        "outputId": "42149ad2-f799-48ac-e9f8-75629d8a68ed"
      },
      "execution_count": 6,
      "outputs": [
        {
          "output_type": "stream",
          "name": "stdout",
          "text": [
            "www.google.com/test%20urlify%20code\n"
          ]
        }
      ]
    },
    {
      "cell_type": "code",
      "source": [],
      "metadata": {
        "id": "kAZsWyUSGLmZ"
      },
      "execution_count": null,
      "outputs": []
    },
    {
      "cell_type": "markdown",
      "source": [
        "\n",
        " * Problem: Palindrome Permutation: Given a string, write a function to check if\n",
        " * it is a permutation of a palindrome. A palindrome is a word or phrase that is\n",
        " * the same forwards and backwards. A permutation is a rearrangement of letters.\n",
        " * The palindrome does not need to be limited to just dictionary words.\n",
        "\n",
        " * EXAMPLE Input: tact coa Output: True (permutations: \"taco cat'; \"atco eta·;\n",
        " * etc.)\n"
      ],
      "metadata": {
        "id": "_RQdnUDgQGXL"
      }
    },
    {
      "cell_type": "code",
      "source": [
        "def is_palindrome_permutation(s):\n",
        "    if s is None:\n",
        "        return False\n",
        "\n",
        "    # Count how many characters have an odd count\n",
        "    count_odd = 0\n",
        "    counts = [0] * 26  # One slot for each letter 'a' to 'z'\n",
        "\n",
        "    for c in s:\n",
        "        # Only consider lowercase letters\n",
        "        if 'a' <= c <= 'z':\n",
        "            index = ord(c) - ord('a')  # Map 'a' to 0, 'b' to 1, ..., 'z' to 25\n",
        "            counts[index] += 1\n",
        "            if counts[index] % 2 == 1:\n",
        "                count_odd += 1\n",
        "            else:\n",
        "                count_odd -= 1\n",
        "\n",
        "    # At most one character can have an odd count for a palindrome\n",
        "    return count_odd < 2\n",
        "\n",
        "\n",
        "# 🧪 Test the function\n",
        "print(is_palindrome_permutation(\"racecar\"))  # Output: True\n"
      ],
      "metadata": {
        "colab": {
          "base_uri": "https://localhost:8080/"
        },
        "id": "oSHpGjtNQIgT",
        "outputId": "441cd1fc-fa5f-47d7-8445-2a682d8a3108"
      },
      "execution_count": 10,
      "outputs": [
        {
          "output_type": "stream",
          "name": "stdout",
          "text": [
            "True\n"
          ]
        }
      ]
    },
    {
      "cell_type": "code",
      "source": [
        "'''\n",
        "\n",
        "s.lower()\n",
        "\n",
        "Converts the input string s to all lowercase letters.\n",
        "\n",
        "Example: \"Taco Cat\" → \"taco cat\"\n",
        "\n",
        "for c in s.lower()\n",
        "\n",
        "Loops through each character c in the lowercase version of the string.\n",
        "\n",
        "if c.isalpha()\n",
        "\n",
        "Filters out non-letter characters.\n",
        "\n",
        "Keeps only characters like 'a', 'b', ..., 'z'\n",
        "\n",
        "Removes things like spaces, punctuation, digits.\n",
        "\n",
        "Example: ' ' (space) → removed; 'o' → kept\n",
        "\n",
        "''.join(...)\n",
        "\n",
        "Joins the remaining characters (all letters) into one continuous string with no spaces in between.\n",
        "\n",
        "The empty string '' is used as the separator (so letters are stuck together).\n",
        "'''\n",
        "\n",
        "def is_palindrome(s):\n",
        "\n",
        "  cleaned = ''.join([c for c in s.lower() if c.isalpha()])\n",
        "  return cleaned == cleaned[::-1]\n",
        "\n",
        "\n",
        "print(is_palindrome(\"racecar\"))       # True\n",
        "print(is_palindrome(\"Taco cat\"))      # True (after cleaning → \"tacocat\")\n",
        "print(is_palindrome(\"hello\"))         # False\n"
      ],
      "metadata": {
        "colab": {
          "base_uri": "https://localhost:8080/"
        },
        "id": "0UcF0XndW78k",
        "outputId": "b0a61e90-2bc4-47e0-cfb0-a66c218dc87e"
      },
      "execution_count": 11,
      "outputs": [
        {
          "output_type": "stream",
          "name": "stdout",
          "text": [
            "True\n",
            "True\n",
            "False\n"
          ]
        }
      ]
    },
    {
      "cell_type": "code",
      "source": [
        "#lambda with arrays: example\n",
        "\n",
        "numbers = [1,2,3,4,5]\n",
        "squares=list(map(lambda x:x**2,numbers))\n",
        "print(squares)"
      ],
      "metadata": {
        "colab": {
          "base_uri": "https://localhost:8080/"
        },
        "id": "hzEUL5oAYp5-",
        "outputId": "ce47a29e-c25a-4df8-b494-3fa9368f2f71"
      },
      "execution_count": 12,
      "outputs": [
        {
          "output_type": "stream",
          "name": "stdout",
          "text": [
            "[1, 4, 9, 16, 25]\n"
          ]
        }
      ]
    },
    {
      "cell_type": "markdown",
      "source": [],
      "metadata": {
        "id": "j-Lz_TaFASfv"
      }
    }
  ]
}