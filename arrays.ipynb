{
 "cells": [
  {
   "cell_type": "markdown",
   "metadata": {},
   "source": [
    "\n",
    "\n",
    "Given an array of integers, return a new array such that each element at index i of the new array is the product of all the numbers in the original array except the one at i.\n",
    "\n",
    "For example, if our input was [1, 2, 3, 4, 5], the expected output would be [120, 60, 40, 30, 24]. If our input was [3, 2, 1], the expected output would be [2, 3, 6]."
   ]
  },
  {
   "cell_type": "code",
   "execution_count": 6,
   "metadata": {},
   "outputs": [
    {
     "data": {
      "text/plain": [
       "[3, 2, 6]"
      ]
     },
     "execution_count": 6,
     "metadata": {},
     "output_type": "execute_result"
    }
   ],
   "source": [
    "def get_factors(array):\n",
    "    output_array = list()\n",
    "    cumulative_products = 1\n",
    "    # This is used to keep track of the running product of elements from the start of the array \n",
    "    right_product_array = list()\n",
    "    # This is an empty list that will store the cumulative product at each step \n",
    "\n",
    "    # This for loop will iterate over each number in the input array \n",
    "    for num in array:\n",
    "        # For each number, we multiply the cumulative product with the current number \n",
    "        cumulative_products *= num \n",
    "        # Then we append the running product to the right product array.\n",
    "        right_product_array.append(cumulative_products)\n",
    "\n",
    "    left_product_array = list()\n",
    "    # This is another empty list \n",
    "\n",
    "    cumulative_products = 1\n",
    "    for num in array[::-1]:\n",
    "        # This for loop does a similar process as the first for loop but in a reverse order (from the end of the array to the start)\n",
    "        cumulative_products *= num\n",
    "        left_product_array.append(cumulative_products)\n",
    "    left_product_array = left_product_array[::-1]\n",
    "\n",
    "    # Iterate through each index i in the original array \n",
    "    for i in range(len(array)):\n",
    "        if i == 0:\n",
    "            # If i is 0 (first element), the desired product is the first element in the left product array\n",
    "            num = left_product_array[i + 1]\n",
    "        elif i == len(array) - 1:\n",
    "            # If i is at the last index of the array, the product is taken from the right product array.\n",
    "            num = right_product_array[i - 1]\n",
    "        else:\n",
    "            # For all other indices the product is calculated by multiplying the elements at i-1 in right product array and i+1 in the left product array.\n",
    "            num = right_product_array[i - 1] * left_product_array[i + 1]\n",
    "        # Each calculated product is appended to the output array.\n",
    "        output_array.append(num)\n",
    "\n",
    "    # Output array contains the product of all elements in the original array, except for the one at each index:\n",
    "    return output_array \n",
    "\n",
    "# Testing the function\n",
    "get_factors([2,3,1])\n",
    "\n",
    "#[120, 60, 40, 30, 24]\n"
   ]
  },
  {
   "cell_type": "markdown",
   "metadata": {},
   "source": [
    "1. Creating Two lists of Products \n",
    "Each list holds the cumulative product of numbers form start and the end of the original array respectively.\n",
    "#One list (right list) storing products of all numbers from the beginning up to each position and the other list (left list) stores\n",
    "the products from the end to each position. \n",
    "\n",
    "2. Calculate the Products for Each Index\n",
    "For each index in the original array, calculate the product of all numbers except the one at that index, this is done by multiplying the appropriate values from the right product array and the left product array. \n",
    "\n",
    "\n",
    "\n",
    "3. Compile and Return the Final Array\n",
    "# Assemble these calculated products into a new list (\"output_array\")\n",
    "which is then returned as the result, this list contains the product of all elements in the original array except for the element at each index."
   ]
  },
  {
   "cell_type": "code",
   "execution_count": 7,
   "metadata": {},
   "outputs": [
    {
     "data": {
      "text/plain": [
       "[120, 60, 40, 30, 24]"
      ]
     },
     "execution_count": 7,
     "metadata": {},
     "output_type": "execute_result"
    }
   ],
   "source": [
    "def factors(array):\n",
    "    #step 1: Create two lists for products \n",
    "\n",
    "    #store the number of elements in an array \n",
    "    length=len(array)\n",
    "    #right and left products are lists filled with 1s. They will store the product of numbers to the right and left of each index in an array.\n",
    "    rp=[1]*length\n",
    "    lp=[1]*length\n",
    "\n",
    "    product=1\n",
    "\n",
    "    #calculate the right products\n",
    "    for i in range(length):\n",
    "        rp[i]=product\n",
    "        product*=array[i]\n",
    "\n",
    "    #we start at the product =1\n",
    "    #loop through each element in the array.\n",
    "    #in the right products we store the current value of product is which the product of all previous elements in the array.\n",
    "    #multiply product by the current element in array for the next iteration.\n",
    "\n",
    "    #calculate the left products \n",
    "    for i in range(length-1,-1,-1):\n",
    "        lp[i]=product\n",
    "        product*=array[i]\n",
    "    #looping through the array in reverse order.\n",
    "    #in the left products, we will store the current value of product (which is the product of all elements to the right of the current element\n",
    "    # in array)\n",
    "    #multiply the product by the current element for the next iteration in reverse.\n",
    "\n",
    "    #calculate and combine for the final product \n",
    "    result=[]\n",
    "\n",
    "    for i in range(length):\n",
    "        result.append(rp[i]*lp[i])\n",
    "\n",
    "    '''\n",
    "    intialize an empty list result\n",
    "    loop through each index in array\n",
    "    for each index i, multiply the value at index i in the right products \n",
    "    with the value at index i, left products we will append this product to the result\n",
    "\n",
    "    '''\n",
    "\n",
    "    return result;\n",
    "    #finally, return the result list which contains the product of all numbers in the array except for the one at each index.\n",
    "\n",
    "get_factors([1,2,3,4,5])"
   ]
  },
  {
   "cell_type": "markdown",
   "metadata": {},
   "source": [
    "Given an array of integers out of order, determine the bounds of the smallest window that must be sorted in order for the entire array to be sorted. For example, given [3, 7, 5, 6, 9], you should return (1, 3).\n",
    "\n",
    "1. Identify the subarray that is out of order \n",
    "We can compare the given array with its sorted version to find the first and last positions where the elements differ.\n",
    "\n",
    "2. Return the indicies of these positions \n",
    "These indicies will define the vounds of the smallest window that beeds to be sorted. \n"
   ]
  },
  {
   "cell_type": "code",
   "execution_count": 14,
   "metadata": {},
   "outputs": [
    {
     "data": {
      "text/plain": [
       "(None, None)"
      ]
     },
     "execution_count": 14,
     "metadata": {},
     "output_type": "execute_result"
    }
   ],
   "source": [
    "def min_window_sorted(array):\n",
    "    #create a sorted copy of the array\n",
    "    sorted_array=sorted(array)\n",
    "\n",
    "    #find the first position scanning from the start, where element in the original array doesnt match the element in the sorted array.\n",
    "    #this is the start of the window.\n",
    "    start=next((i for i,(a,b) in enumerate(zip(array,sorted_array)) if a!=b),None)\n",
    "    '''\n",
    "\n",
    "    This line finds the index of the first element where the original array (arr) differs from the sorted array (sorted_arr). This is done by:\n",
    "    zip(arr, sorted_arr): Combining elements from both arrays into pairs.\n",
    "    enumerate(...): Providing the index (i) along with each pair.\n",
    "    (a, b): Representing the elements from arr and sorted_arr in each pair.\n",
    "    if a != b: Checking if elements in the pair are different.\n",
    "    next(...): Getting the first index where the elements differ. If there’s no difference, None is returned\n",
    "\n",
    "    '''\n",
    "\n",
    "    #find the first position, scanning from the end, where the element in the original array does not match the element in the sorted array. \n",
    "    #this is the end of the window.\n",
    "    end=next((i for i,(a,b) in enumerate(zip(reversed(array),reversed(sorted_array))) if a!=b),None)\n",
    "    '''\n",
    "    Similar to the previous step, but this time we:\n",
    "    Use reversed(arr) and reversed(sorted_arr) to compare the arrays from the end.\n",
    "    Find the index of the first mismatch when looking from the end of the arrays.\n",
    "\n",
    "    '''\n",
    "\n",
    "\n",
    "    #return the indicies of the window that needs to be sorted.\n",
    "    #len(array)-end-1 convertets the reversed index to a normal index\n",
    "    #if start is None, it means the array is already sorted,so we return none,none\n",
    "\n",
    "\n",
    "    return (start,len(array)-end-1) if start is not None else (None,None)\n",
    "\n",
    "\n",
    "\n",
    "min_window_sorted([3,4,5])"
   ]
  }
 ],
 "metadata": {
  "kernelspec": {
   "display_name": "Python 3",
   "language": "python",
   "name": "python3"
  },
  "language_info": {
   "codemirror_mode": {
    "name": "ipython",
    "version": 3
   },
   "file_extension": ".py",
   "mimetype": "text/x-python",
   "name": "python",
   "nbconvert_exporter": "python",
   "pygments_lexer": "ipython3",
   "version": "3.11.3"
  }
 },
 "nbformat": 4,
 "nbformat_minor": 2
}
